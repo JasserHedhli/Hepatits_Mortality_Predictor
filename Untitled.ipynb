{
 "cells": [
  {
   "cell_type": "code",
   "execution_count": 1,
   "id": "a6361b86",
   "metadata": {},
   "outputs": [
    {
     "name": "stderr",
     "output_type": "stream",
     "text": [
      "WARNING: Ignoring invalid distribution -umpy (c:\\users\\ghassen\\anaconda3\\lib\\site-packages)\n",
      "WARNING: Ignoring invalid distribution -cipy (c:\\users\\ghassen\\anaconda3\\lib\\site-packages)\n",
      "WARNING: Ignoring invalid distribution -umpy (c:\\users\\ghassen\\anaconda3\\lib\\site-packages)\n",
      "WARNING: Ignoring invalid distribution -cipy (c:\\users\\ghassen\\anaconda3\\lib\\site-packages)\n",
      "ERROR: Could not install packages due to an OSError: [Errno 2] No such file or directory: 'c:\\\\users\\\\ghassen\\\\anaconda3\\\\lib\\\\site-packages\\\\numpy-1.21.2.dist-info\\\\METADATA'\n",
      "\n",
      "WARNING: Ignoring invalid distribution -umpy (c:\\users\\ghassen\\anaconda3\\lib\\site-packages)\n",
      "WARNING: Ignoring invalid distribution -cipy (c:\\users\\ghassen\\anaconda3\\lib\\site-packages)\n",
      "WARNING: Ignoring invalid distribution -umpy (c:\\users\\ghassen\\anaconda3\\lib\\site-packages)\n",
      "WARNING: Ignoring invalid distribution -cipy (c:\\users\\ghassen\\anaconda3\\lib\\site-packages)\n",
      "WARNING: Ignoring invalid distribution -umpy (c:\\users\\ghassen\\anaconda3\\lib\\site-packages)\n",
      "WARNING: Ignoring invalid distribution -cipy (c:\\users\\ghassen\\anaconda3\\lib\\site-packages)\n"
     ]
    },
    {
     "name": "stdout",
     "output_type": "stream",
     "text": [
      "Collecting pandas_ml\n",
      "  Using cached pandas_ml-0.6.1-py3-none-any.whl (100 kB)\n",
      "Requirement already satisfied: pandas>=0.19.0 in c:\\users\\ghassen\\anaconda3\\lib\\site-packages (from pandas_ml) (1.3.5)\n",
      "Collecting enum34\n",
      "  Using cached enum34-1.1.10-py3-none-any.whl (11 kB)\n",
      "Requirement already satisfied: numpy>=1.17.3 in c:\\users\\ghassen\\anaconda3\\lib\\site-packages (from pandas>=0.19.0->pandas_ml) (1.21.2)\n",
      "Requirement already satisfied: pytz>=2017.3 in c:\\users\\ghassen\\anaconda3\\lib\\site-packages (from pandas>=0.19.0->pandas_ml) (2021.3)\n",
      "Requirement already satisfied: python-dateutil>=2.7.3 in c:\\users\\ghassen\\anaconda3\\lib\\site-packages (from pandas>=0.19.0->pandas_ml) (2.8.2)\n"
     ]
    }
   ],
   "source": [
    "!pip install pandas_ml"
   ]
  },
  {
   "cell_type": "code",
   "execution_count": null,
   "id": "05a2d924",
   "metadata": {},
   "outputs": [],
   "source": []
  }
 ],
 "metadata": {
  "kernelspec": {
   "display_name": "pyTorch",
   "language": "python",
   "name": "pytorch"
  },
  "language_info": {
   "codemirror_mode": {
    "name": "ipython",
    "version": 3
   },
   "file_extension": ".py",
   "mimetype": "text/x-python",
   "name": "python",
   "nbconvert_exporter": "python",
   "pygments_lexer": "ipython3",
   "version": "3.9.7"
  },
  "varInspector": {
   "cols": {
    "lenName": 16,
    "lenType": 16,
    "lenVar": 40
   },
   "kernels_config": {
    "python": {
     "delete_cmd_postfix": "",
     "delete_cmd_prefix": "del ",
     "library": "var_list.py",
     "varRefreshCmd": "print(var_dic_list())"
    },
    "r": {
     "delete_cmd_postfix": ") ",
     "delete_cmd_prefix": "rm(",
     "library": "var_list.r",
     "varRefreshCmd": "cat(var_dic_list()) "
    }
   },
   "types_to_exclude": [
    "module",
    "function",
    "builtin_function_or_method",
    "instance",
    "_Feature"
   ],
   "window_display": false
  }
 },
 "nbformat": 4,
 "nbformat_minor": 5
}
